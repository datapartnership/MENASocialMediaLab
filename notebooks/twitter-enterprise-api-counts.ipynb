{
 "cells": [
  {
   "cell_type": "code",
   "execution_count": null,
   "metadata": {},
   "outputs": [],
   "source": [
    "import os\n",
    "import json\n",
    "\n",
    "import pandas as pd\n",
    "import requests\n",
    "\n",
    "from bokeh.io import output_notebook\n",
    "from bokeh.plotting import figure, show\n",
    "from bokeh.models import ColumnDataSource, Select, HoverTool\n",
    "\n",
    "output_notebook()"
   ]
  },
  {
   "cell_type": "code",
   "execution_count": null,
   "metadata": {},
   "outputs": [],
   "source": [
    "user = os.getenv(\"GNIP_USER\")\n",
    "password = os.getenv(\"GNIP_PASSWORD\")"
   ]
  },
  {
   "cell_type": "markdown",
   "metadata": {},
   "source": [
    "# Twitter Enterprise: Counts\n",
    "\n",
    "Please visit the documentation to learn more about the [Twiter Enterprise API](https://developer.twitter.com/en/docs/twitter-api/enterprise). See also [Rules and filters](https://developer.twitter.com/en/docs/twitter-api/enterprise/rules-and-filtering/building-a-rule)."
   ]
  },
  {
   "cell_type": "code",
   "execution_count": null,
   "metadata": {},
   "outputs": [],
   "source": [
    "URL = \"https://gnip-api.twitter.com/search/30day/accounts/theworldbank/prod/counts.json\""
   ]
  },
  {
   "cell_type": "code",
   "execution_count": null,
   "metadata": {
    "tags": [
     "parameters"
    ]
   },
   "outputs": [],
   "source": [
    "# Parameters. https://papermill.readthedocs.io/en/latest/usage-parameterize.html\n",
    "\n",
    "QUERY  = \"#COVID19 lang:en\""
   ]
  },
  {
   "cell_type": "markdown",
   "metadata": {},
   "source": [
    "Now, make the reques and check if HTTP 200 OK,"
   ]
  },
  {
   "cell_type": "code",
   "execution_count": null,
   "metadata": {},
   "outputs": [],
   "source": [
    "params = {\n",
    "    \"query\": QUERY,\n",
    "    \"bucket\": \"day\",\n",
    "}\n",
    "\n",
    "r = requests.get(URL, params=params, auth=(user, password))\n",
    "\n",
    "r.status_code == 200"
   ]
  },
  {
   "cell_type": "markdown",
   "metadata": {},
   "source": [
    "Convert to `pandas.DataFrame`, "
   ]
  },
  {
   "cell_type": "code",
   "execution_count": null,
   "metadata": {},
   "outputs": [],
   "source": [
    "df = pd.DataFrame.from_dict(r.json()[\"results\"])\n",
    "\n",
    "df[\"date\"] = pd.to_datetime(df[\"timePeriod\"])"
   ]
  },
  {
   "cell_type": "markdown",
   "metadata": {},
   "source": [
    "Plotting with `bokeh`, "
   ]
  },
  {
   "cell_type": "code",
   "execution_count": null,
   "metadata": {},
   "outputs": [],
   "source": [
    "p = figure(title=f\"Twitter: Number of tweets ({QUERY})\",\n",
    "            x_axis_label=\"Date\",\n",
    "            y_axis_label=\"Number of tweets\",\n",
    "            x_axis_type='datetime', \n",
    "            width=800,\n",
    "            height=600)\n",
    "\n",
    "p.add_tools(HoverTool(\n",
    "    tooltips=[\n",
    "       ('(x, y)', \"(@x{%F}, @y)\"),],\n",
    "    formatters={\n",
    "        '@x': 'datetime'}))\n",
    "\n",
    "source = ColumnDataSource(data=dict(x=df[\"date\"].values, y=df[\"count\"].values))\n",
    "p.line(x='x', y='y', source=source, alpha=0.5)\n",
    "\n",
    "#p.legend.location = \"top_right\"\n",
    "#p.legend.click_policy=\"hide\"\n",
    "\n",
    "show(p)"
   ]
  },
  {
   "cell_type": "markdown",
   "metadata": {},
   "source": [
    "## Export (Optional)"
   ]
  },
  {
   "cell_type": "code",
   "execution_count": null,
   "metadata": {},
   "outputs": [],
   "source": [
    "#with open(f\"counts/{KEYWORD}.json\", \"w\") as f:\n",
    "#    json.dump(r.json(), f)"
   ]
  },
  {
   "cell_type": "code",
   "execution_count": null,
   "metadata": {},
   "outputs": [],
   "source": []
  }
 ],
 "metadata": {
  "interpreter": {
   "hash": "3894ba6bfae6178397d12764389007fff4fd1204df0971ac697a95acd42dfde7"
  },
  "kernelspec": {
   "display_name": "Python 3 (ipykernel)",
   "language": "python",
   "name": "python3"
  },
  "language_info": {
   "codemirror_mode": {
    "name": "ipython",
    "version": 3
   },
   "file_extension": ".py",
   "mimetype": "text/x-python",
   "name": "python",
   "nbconvert_exporter": "python",
   "pygments_lexer": "ipython3",
   "version": "3.9.7"
  }
 },
 "nbformat": 4,
 "nbformat_minor": 4
}
