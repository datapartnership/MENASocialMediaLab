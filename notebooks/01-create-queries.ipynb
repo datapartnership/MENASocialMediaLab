{
 "cells": [
  {
   "cell_type": "code",
   "execution_count": 1,
   "id": "b90eb704-0a81-46ba-824f-6c107cad320c",
   "metadata": {},
   "outputs": [],
   "source": [
    "import pandas as pd"
   ]
  },
  {
   "cell_type": "markdown",
   "id": "18448d4f-73fd-4381-8a9c-1a99c9293f97",
   "metadata": {
    "tags": []
   },
   "source": [
    "# Parameters"
   ]
  },
  {
   "cell_type": "code",
   "execution_count": 5,
   "id": "b93ed837-72e4-47ee-90f0-12b249f350fd",
   "metadata": {},
   "outputs": [],
   "source": [
    "# Parameters. https://papermill.readthedocs.io/en/latest/usage-parameterize.html\n",
    "\n",
    "PATH = \"../data/COVID_keywords.xlsx\""
   ]
  },
  {
   "cell_type": "markdown",
   "id": "8c597529-0c0f-4d66-9e75-e6333bca8861",
   "metadata": {},
   "source": [
    "# Rules\n",
    "\n",
    "Python script that would convert the keywords from the attached Excel file to Twitter queries that can be submitted to the Twitter API? The Excel file includes four columns: (1) keyword, (2) language, (3) filter, and (4) volume.\n",
    " \n",
    "The logic of the Excel file template is the following:\n",
    "\n",
    "- The keywords from the first row reads: “covid, coronavirus, corona virus”. This means we will be collecting tweets that feature [covid OR coronavirus OR (corona AND virus) anywhere in the tweet] AND at least one of the words from the filter list. I am currently separating the keywords using a comma. Let me know if another delimiter is preferred.\n",
    "- The languages are also delimited by a comma. This means that the above mentioned condition results in 4 different queries; one for each language listed here.\n",
    "- I have also inserted a volume column, which measures the max number of tweets to be downloaded per day (we could also use a percentage of daily volume if that is preferred; by using an absolute volume constraint we have more control over the total volume).\n",
    "- In our example, that means that the first row from the Excel file results in 4 different queries (one for each language).\n",
    "- The second row results in one query (with one keyword; search for the listed word anywhere in the tweet, with or without the hashtag) as one language has been selected here."
   ]
  },
  {
   "cell_type": "code",
   "execution_count": 11,
   "id": "5cf51eb2-25cb-48d3-a040-91428a95cae1",
   "metadata": {},
   "outputs": [],
   "source": [
    "df = pd.read_excel(PATH)"
   ]
  },
  {
   "cell_type": "markdown",
   "id": "771c91c9-92ee-47b0-8fb5-ae19b3065d89",
   "metadata": {},
   "source": [
    "Applying logic according to the items described by Roy, "
   ]
  },
  {
   "cell_type": "code",
   "execution_count": 12,
   "id": "bcb4b467-fdf6-439b-878a-ddc10f798ed5",
   "metadata": {},
   "outputs": [],
   "source": [
    "df[\"keyword\"] = df[\"keyword\"].str.split(\",\")\n",
    "df[\"keyword\"] = df[\"keyword\"].apply(lambda x: ' OR '.join('(' + item.strip() + ')' for item in x))"
   ]
  },
  {
   "cell_type": "code",
   "execution_count": 13,
   "id": "ccdf5c35-d3c4-4b57-9895-4688179a5ca8",
   "metadata": {},
   "outputs": [],
   "source": [
    "df[\"filter\"] = df[\"filter\"].str.split(\",\")\n",
    "df[\"filter\"] = df[\"filter\"].apply(lambda x: ' OR '.join(item.strip() for item in x))"
   ]
  },
  {
   "cell_type": "code",
   "execution_count": 22,
   "id": "9be81ba3-37c1-4eeb-ada2-81468da6d0a5",
   "metadata": {},
   "outputs": [
    {
     "data": {
      "text/html": [
       "<div>\n",
       "<style scoped>\n",
       "    .dataframe tbody tr th:only-of-type {\n",
       "        vertical-align: middle;\n",
       "    }\n",
       "\n",
       "    .dataframe tbody tr th {\n",
       "        vertical-align: top;\n",
       "    }\n",
       "\n",
       "    .dataframe thead th {\n",
       "        text-align: right;\n",
       "    }\n",
       "</style>\n",
       "<table border=\"1\" class=\"dataframe\">\n",
       "  <thead>\n",
       "    <tr style=\"text-align: right;\">\n",
       "      <th></th>\n",
       "      <th>keyword</th>\n",
       "      <th>language</th>\n",
       "      <th>filter</th>\n",
       "      <th>volume</th>\n",
       "      <th>table_name</th>\n",
       "      <th>table_group</th>\n",
       "      <th>country</th>\n",
       "      <th>from_date</th>\n",
       "      <th>to_date</th>\n",
       "    </tr>\n",
       "  </thead>\n",
       "  <tbody>\n",
       "    <tr>\n",
       "      <th>0</th>\n",
       "      <td>(covid) OR (coronavirus) OR (corona virus)</td>\n",
       "      <td>en</td>\n",
       "      <td>\" vaccin\" OR \" vacuna\" OR \"لقح\" OR \"لقاح\" OR \"...</td>\n",
       "      <td>10000</td>\n",
       "      <td>covid_en</td>\n",
       "      <td>Covid</td>\n",
       "      <td>Global</td>\n",
       "      <td>2020-07-01</td>\n",
       "      <td>2021-11-01</td>\n",
       "    </tr>\n",
       "    <tr>\n",
       "      <th>1</th>\n",
       "      <td>(covid) OR (coronavirus) OR (corona virus)</td>\n",
       "      <td>fr</td>\n",
       "      <td>\" vaccin\" OR \" vacuna\" OR \"لقح\" OR \"لقاح\" OR \"...</td>\n",
       "      <td>10000</td>\n",
       "      <td>covid_fr</td>\n",
       "      <td>Covid</td>\n",
       "      <td>Global</td>\n",
       "      <td>2020-07-01</td>\n",
       "      <td>2021-11-01</td>\n",
       "    </tr>\n",
       "    <tr>\n",
       "      <th>2</th>\n",
       "      <td>(covid) OR (coronavirus) OR (corona virus)</td>\n",
       "      <td>es</td>\n",
       "      <td>\" vaccin\" OR \" vacuna\" OR \"لقح\" OR \"لقاح\" OR \"...</td>\n",
       "      <td>10000</td>\n",
       "      <td>covid_es</td>\n",
       "      <td>Covid</td>\n",
       "      <td>Global</td>\n",
       "      <td>2020-07-01</td>\n",
       "      <td>2021-11-01</td>\n",
       "    </tr>\n",
       "    <tr>\n",
       "      <th>3</th>\n",
       "      <td>(covid) OR (coronavirus) OR (corona virus)</td>\n",
       "      <td>ar</td>\n",
       "      <td>\" vaccin\" OR \" vacuna\" OR \"لقح\" OR \"لقاح\" OR \"...</td>\n",
       "      <td>10000</td>\n",
       "      <td>covid_ar</td>\n",
       "      <td>Covid</td>\n",
       "      <td>MENA</td>\n",
       "      <td>2020-07-01</td>\n",
       "      <td>2021-11-01</td>\n",
       "    </tr>\n",
       "    <tr>\n",
       "      <th>4</th>\n",
       "      <td>(كورونا)</td>\n",
       "      <td>ar</td>\n",
       "      <td>\" vaccin\" OR \" vacuna\" OR \"لقح\" OR \"لقاح\" OR \"...</td>\n",
       "      <td>10000</td>\n",
       "      <td>arabic_corona_ar</td>\n",
       "      <td>Covid</td>\n",
       "      <td>MENA</td>\n",
       "      <td>2020-07-01</td>\n",
       "      <td>2021-11-01</td>\n",
       "    </tr>\n",
       "  </tbody>\n",
       "</table>\n",
       "</div>"
      ],
      "text/plain": [
       "                                      keyword language  \\\n",
       "0  (covid) OR (coronavirus) OR (corona virus)       en   \n",
       "1  (covid) OR (coronavirus) OR (corona virus)       fr   \n",
       "2  (covid) OR (coronavirus) OR (corona virus)       es   \n",
       "3  (covid) OR (coronavirus) OR (corona virus)       ar   \n",
       "4                                    (كورونا)       ar   \n",
       "\n",
       "                                              filter  volume  \\\n",
       "0  \" vaccin\" OR \" vacuna\" OR \"لقح\" OR \"لقاح\" OR \"...   10000   \n",
       "1  \" vaccin\" OR \" vacuna\" OR \"لقح\" OR \"لقاح\" OR \"...   10000   \n",
       "2  \" vaccin\" OR \" vacuna\" OR \"لقح\" OR \"لقاح\" OR \"...   10000   \n",
       "3  \" vaccin\" OR \" vacuna\" OR \"لقح\" OR \"لقاح\" OR \"...   10000   \n",
       "4  \" vaccin\" OR \" vacuna\" OR \"لقح\" OR \"لقاح\" OR \"...   10000   \n",
       "\n",
       "         table_name table_group country   from_date     to_date  \n",
       "0          covid_en       Covid  Global  2020-07-01  2021-11-01  \n",
       "1          covid_fr       Covid  Global  2020-07-01  2021-11-01  \n",
       "2          covid_es       Covid  Global  2020-07-01  2021-11-01  \n",
       "3          covid_ar       Covid    MENA  2020-07-01  2021-11-01  \n",
       "4  arabic_corona_ar       Covid    MENA  2020-07-01  2021-11-01  "
      ]
     },
     "execution_count": 22,
     "metadata": {},
     "output_type": "execute_result"
    }
   ],
   "source": [
    "df"
   ]
  },
  {
   "cell_type": "markdown",
   "id": "cd9e7f31-eda8-4a5a-bb3c-9cc5f604ec94",
   "metadata": {},
   "source": [
    "And the resulting **queries**, "
   ]
  },
  {
   "cell_type": "code",
   "execution_count": 46,
   "id": "dee60c83-9e17-4e75-9cc6-a682b38f683e",
   "metadata": {},
   "outputs": [],
   "source": [
    "df[\"query\"] = \"(\" + df['keyword'] + \") (\" + df['filter'] + \") lang:\" + df['language']"
   ]
  },
  {
   "cell_type": "markdown",
   "id": "b93e5c1a-8298-4230-9da9-a61ca8a99ed6",
   "metadata": {},
   "source": [
    "For example, "
   ]
  },
  {
   "cell_type": "code",
   "execution_count": 47,
   "id": "e173ac84-4ec1-44ae-9856-fc0d5cf75e51",
   "metadata": {},
   "outputs": [
    {
     "data": {
      "text/plain": [
       "'((covid) OR (coronavirus) OR (corona virus)) (\" vaccin\" OR \" vacuna\" OR \"لقح\" OR \"لقاح\" OR \"تلقيح\" OR \"فايزر\" OR \"أسترازينكا\" OR \"سينوفارم\" OR \"جونسون\" OR \"سبوتنيك\" OR \"مودرنا\" OR \"نوفافاكس\" OR \"pfizer\" OR \"astrazeneca\" OR \"sinopharm\" OR \"johnson\" OR \"sputnik\" OR \"moderna\" OR \"novavax\") lang:en'"
      ]
     },
     "execution_count": 47,
     "metadata": {},
     "output_type": "execute_result"
    }
   ],
   "source": [
    "df.iloc[0][\"query\"]"
   ]
  },
  {
   "cell_type": "code",
   "execution_count": null,
   "id": "d37ef610-ac02-4a3b-965a-0d32f377d7fd",
   "metadata": {},
   "outputs": [],
   "source": []
  }
 ],
 "metadata": {
  "kernelspec": {
   "display_name": "Python 3 (ipykernel)",
   "language": "python",
   "name": "python3"
  },
  "language_info": {
   "codemirror_mode": {
    "name": "ipython",
    "version": 3
   },
   "file_extension": ".py",
   "mimetype": "text/x-python",
   "name": "python",
   "nbconvert_exporter": "python",
   "pygments_lexer": "ipython3",
   "version": "3.9.7"
  }
 },
 "nbformat": 4,
 "nbformat_minor": 5
}
