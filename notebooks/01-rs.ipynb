{
 "cells": [
  {
   "cell_type": "code",
   "execution_count": 3,
   "metadata": {},
   "outputs": [],
   "source": [
    "from searchtweets import ResultStream, gen_rule_payload, load_credentials\n",
    "from searchtweets import collect_results, write_result_stream"
   ]
  },
  {
   "cell_type": "markdown",
   "metadata": {},
   "source": [
    "# Twitter Enterprise: Streaming"
   ]
  },
  {
   "cell_type": "code",
   "execution_count": 4,
   "metadata": {},
   "outputs": [],
   "source": [
    "enterprise_search_args = load_credentials(\n",
    "    filename=\"twitter_keys.yaml\", \n",
    "    yaml_key=\"search_tweets_api\"\n",
    ")"
   ]
  },
  {
   "cell_type": "code",
   "execution_count": 10,
   "metadata": {},
   "outputs": [],
   "source": [
    "# Parameters. https://papermill.readthedocs.io/en/latest/usage-parameterize.html\n",
    "\n",
    "MAX_RESULTS = 10000000\n",
    "\n",
    "FROM_DATE=\"2021-01-01\"\n",
    "TO_DATE=\"2021-07-01\"\n",
    "    \n",
    "QUERY = \"\"\"((covid) OR (coronavirus) OR (corona virus)) (\" vaccin\" OR \" vacuna\" OR \"لقح\" OR \"لقاح\" OR \"تلقيح\" OR \"فايزر\" OR \"أسترازينكا\" OR \"سينوفارم\" OR \"جونسون\" OR \"سبوتنيك\" OR \"مودرنا\" OR \"نوفافاكس\" OR \"pfizer\" OR \"astrazeneca\" OR \"sinopharm\" OR \"johnson\" OR \"sputnik\" OR \"moderna\" OR \"novavax\") lang:ar\"\"\""
   ]
  },
  {
   "cell_type": "code",
   "execution_count": 11,
   "metadata": {},
   "outputs": [
    {
     "name": "stdout",
     "output_type": "stream",
     "text": [
      "{\"query\": \"((covid) OR (coronavirus) OR (corona virus)) (\\\" vaccin\\\" OR \\\" vacuna\\\" OR \\\"\\u0644\\u0642\\u062d\\\" OR \\\"\\u0644\\u0642\\u0627\\u062d\\\" OR \\\"\\u062a\\u0644\\u0642\\u064a\\u062d\\\" OR \\\"\\u0641\\u0627\\u064a\\u0632\\u0631\\\" OR \\\"\\u0623\\u0633\\u062a\\u0631\\u0627\\u0632\\u064a\\u0646\\u0643\\u0627\\\" OR \\\"\\u0633\\u064a\\u0646\\u0648\\u0641\\u0627\\u0631\\u0645\\\" OR \\\"\\u062c\\u0648\\u0646\\u0633\\u0648\\u0646\\\" OR \\\"\\u0633\\u0628\\u0648\\u062a\\u0646\\u064a\\u0643\\\" OR \\\"\\u0645\\u0648\\u062f\\u0631\\u0646\\u0627\\\" OR \\\"\\u0646\\u0648\\u0641\\u0627\\u0641\\u0627\\u0643\\u0633\\\" OR \\\"pfizer\\\" OR \\\"astrazeneca\\\" OR \\\"sinopharm\\\" OR \\\"johnson\\\" OR \\\"sputnik\\\" OR \\\"moderna\\\" OR \\\"novavax\\\") lang:ar\", \"maxResults\": 500, \"toDate\": \"202107010000\", \"fromDate\": \"202101010000\"}\n"
     ]
    }
   ],
   "source": [
    "rule = gen_rule_payload(QUERY, from_date=FROM_DATE, to_date=TO_DATE, results_per_call=500) \n",
    "\n",
    "print(rule)"
   ]
  },
  {
   "cell_type": "code",
   "execution_count": 12,
   "metadata": {},
   "outputs": [],
   "source": [
    "rs = ResultStream(rule_payload=rule, max_results=MAX_RESULTS, **enterprise_search_args)"
   ]
  },
  {
   "cell_type": "code",
   "execution_count": 28,
   "metadata": {},
   "outputs": [],
   "source": [
    "#tweets = list(rs.stream())\n",
    "#tweets = collect_results(rule, max_results=5000, result_stream_args=enterprise_search_args)\n",
    "\n",
    "#len(tweets)"
   ]
  },
  {
   "cell_type": "markdown",
   "metadata": {},
   "source": [
    "## Export"
   ]
  },
  {
   "cell_type": "code",
   "execution_count": null,
   "metadata": {},
   "outputs": [],
   "source": [
    "stream = list(write_result_stream(rs, filename_prefix=\"../data/lang=ar/\", results_per_file=100000))"
   ]
  },
  {
   "cell_type": "code",
   "execution_count": null,
   "metadata": {},
   "outputs": [],
   "source": []
  },
  {
   "cell_type": "code",
   "execution_count": null,
   "metadata": {},
   "outputs": [],
   "source": []
  }
 ],
 "metadata": {
  "kernelspec": {
   "display_name": "Python 3 (ipykernel)",
   "language": "python",
   "name": "python3"
  },
  "language_info": {
   "codemirror_mode": {
    "name": "ipython",
    "version": 3
   },
   "file_extension": ".py",
   "mimetype": "text/x-python",
   "name": "python",
   "nbconvert_exporter": "python",
   "pygments_lexer": "ipython3",
   "version": "3.9.7"
  }
 },
 "nbformat": 4,
 "nbformat_minor": 4
}
